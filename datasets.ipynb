{
 "cells": [
  {
   "cell_type": "code",
   "execution_count": 6,
   "id": "490f7622-6081-4d74-87a3-38cf925cc991",
   "metadata": {},
   "outputs": [],
   "source": [
    "import torch\n",
    "import os\n",
    "import torch_geometric\n",
    "import torch_geometric.datasets as tgdatasets"
   ]
  },
  {
   "cell_type": "markdown",
   "id": "9579cd62-a7fc-4338-8abd-ab184d8fc5af",
   "metadata": {},
   "source": [
    "**Example**: We will use `torch_geometric.datasets` to load the `Cora` dataset for node classification, which consists of 2,708 nodes, 10,556 edges, 1,433 features, and 7 classes.\n",
    "\n",
    "`dataset.data.x` : input node features\n",
    "\n",
    "`dataset.data.edge_index` : A sparce adjacent matrix with the size of *2 x n_edge*.\n",
    "\n",
    "`dataset.data.y` : target labels\n",
    "\n",
    "`dataset.data.train_mask` : boolean mask indicating whether an index belongs to training data\n",
    "\n",
    "`dataset.data.val_mask` : boolean mask indicating whether an index belongs to validation data\n",
    "\n",
    "`dataset.data.test_mask` : boolean mask indicating whether an index belongs to test data"
   ]
  },
  {
   "cell_type": "code",
   "execution_count": 26,
   "id": "652daf55-193b-4f07-9ffc-024da2502705",
   "metadata": {},
   "outputs": [],
   "source": [
    "DATASET_NAMES = ['Cora', 'CiteSeer', 'PubMed']\n",
    "DATA_DIR = \"./data/\"\n",
    "DATASETS = { name: tgdatasets.Planetoid(\n",
    "                    root=DATA_DIR,\n",
    "                    name=name,\n",
    "                    split=\"public\",\n",
    "                    transform=torch_geometric.transforms.GCNNorm()\n",
    "                    ) \n",
    "            for name in DATASET_NAMES\n",
    "            }"
   ]
  },
  {
   "cell_type": "code",
   "execution_count": 23,
   "id": "18c0f454-af3a-4289-9e43-d29b0e2ff0bf",
   "metadata": {},
   "outputs": [
    {
     "name": "stdout",
     "output_type": "stream",
     "text": [
      "Data(x=[2708, 1433], edge_index=[2, 10556], y=[2708], train_mask=[2708], val_mask=[2708], test_mask=[2708])\n"
     ]
    }
   ],
   "source": [
    "# dataset = DATASETS['Cora']\n",
    "# print(dataset.data)\n",
    "# torch.count_nonzero(dataset.data.val_mask).item()"
   ]
  },
  {
   "cell_type": "code",
   "execution_count": 25,
   "id": "4ff70154-29d3-4982-94e8-5cf8aecb5c2c",
   "metadata": {},
   "outputs": [],
   "source": [
    "def load_data(dataset_name, data_only=False):\n",
    "    \"\"\"\n",
    "    Returns the dataset and [Data] object for the given dataset name.\n",
    "    \"\"\"\n",
    "    device = \"cuda\" if torch.cuda.is_available() else \"cpu\"\n",
    "    dataset = DATASETS[dataset_name]\n",
    "    data = dataset.data.to(device)\n",
    "    return data if data_only else (data, dataset)"
   ]
  },
  {
   "cell_type": "code",
   "execution_count": null,
   "id": "3391fd1d-f94c-4c3e-ac25-217fc9f740df",
   "metadata": {},
   "outputs": [],
   "source": []
  }
 ],
 "metadata": {
  "kernelspec": {
   "display_name": "Python 3 (ipykernel)",
   "language": "python",
   "name": "python3"
  },
  "language_info": {
   "codemirror_mode": {
    "name": "ipython",
    "version": 3
   },
   "file_extension": ".py",
   "mimetype": "text/x-python",
   "name": "python",
   "nbconvert_exporter": "python",
   "pygments_lexer": "ipython3",
   "version": "3.12.7"
  }
 },
 "nbformat": 4,
 "nbformat_minor": 5
}
