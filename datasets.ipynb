{
 "cells": [
  {
   "cell_type": "code",
   "execution_count": 5,
   "id": "abcf4832-6dbc-4b6b-a8a8-97baae8b934e",
   "metadata": {},
   "outputs": [],
   "source": [
    "# suppress warnings\n",
    "import warnings\n",
    "\n",
    "# Suppress specific UserWarning related to InMemoryDataset\n",
    "warnings.simplefilter(\"ignore\", category=UserWarning)"
   ]
  },
  {
   "cell_type": "code",
   "execution_count": 6,
   "id": "490f7622-6081-4d74-87a3-38cf925cc991",
   "metadata": {},
   "outputs": [],
   "source": [
    "import torch\n",
    "import os\n",
    "import torch_geometric\n",
    "import torch_geometric.datasets as tgdatasets"
   ]
  },
  {
   "cell_type": "markdown",
   "id": "9579cd62-a7fc-4338-8abd-ab184d8fc5af",
   "metadata": {},
   "source": [
    "**Example**: We will use `torch_geometric.datasets` to load the `Cora` dataset for node classification, which consists of 2,708 nodes, 10,556 edges, 1,433 features, and 7 classes.\n",
    "\n",
    "`dataset.data.x` : input node features\n",
    "\n",
    "`dataset.data.edge_index` : A sparce adjacent matrix with the size of *2 x n_edge*.\n",
    "\n",
    "`dataset.data.y` : target labels\n",
    "\n",
    "`dataset.data.train_mask` : boolean mask indicating whether an index belongs to training data\n",
    "\n",
    "`dataset.data.val_mask` : boolean mask indicating whether an index belongs to validation data\n",
    "\n",
    "`dataset.data.test_mask` : boolean mask indicating whether an index belongs to test data"
   ]
  },
  {
   "cell_type": "code",
   "execution_count": 7,
   "id": "652daf55-193b-4f07-9ffc-024da2502705",
   "metadata": {},
   "outputs": [],
   "source": [
    "DATASET_NAMES = ['Cora', 'CiteSeer', 'PubMed']\n",
    "DATA_DIR = \"./data/\"\n",
    "DATASETS = { name: tgdatasets.Planetoid(\n",
    "                    root=DATA_DIR,\n",
    "                    name=name,\n",
    "                    split=\"public\",\n",
    "                    transform=torch_geometric.transforms.GCNNorm()\n",
    "                    ) \n",
    "            for name in DATASET_NAMES\n",
    "            }"
   ]
  },
  {
   "cell_type": "code",
   "execution_count": 10,
   "id": "41418b66-b062-41e0-95e1-d1aa0e4d8761",
   "metadata": {},
   "outputs": [],
   "source": [
    "def mask_size(mask):\n",
    "    return torch.count_nonzero(mask).item()"
   ]
  },
  {
   "cell_type": "code",
   "execution_count": 20,
   "id": "18c0f454-af3a-4289-9e43-d29b0e2ff0bf",
   "metadata": {},
   "outputs": [
    {
     "name": "stdout",
     "output_type": "stream",
     "text": [
      "Info for Cora:\n",
      "num_nodes: 2708\n",
      "num_edges: 10556\n",
      "num_node_features = 1433\n",
      "num_classes = 7\n",
      "Training set size: 140\n",
      "Validation set size: 500\n",
      "Test set size: 1000\n",
      "\n",
      "Info for CiteSeer:\n",
      "num_nodes: 3327\n",
      "num_edges: 9104\n",
      "num_node_features = 3703\n",
      "num_classes = 6\n",
      "Training set size: 120\n",
      "Validation set size: 500\n",
      "Test set size: 1000\n",
      "\n",
      "Info for PubMed:\n",
      "num_nodes: 19717\n",
      "num_edges: 88648\n",
      "num_node_features = 500\n",
      "num_classes = 3\n",
      "Training set size: 60\n",
      "Validation set size: 500\n",
      "Test set size: 1000\n",
      "\n"
     ]
    }
   ],
   "source": [
    "def print_datasets_info():\n",
    "    for name, dataset in DATASETS.items():\n",
    "        print(f\"Info for {name}:\")\n",
    "        print(f\"num_nodes: {dataset.data.x.shape[0]}\")\n",
    "        print(f\"num_edges: {dataset.data.edge_index.shape[1]}\")\n",
    "        print(f\"num_node_features = {dataset.num_node_features}\")\n",
    "        print(f\"num_classes = {dataset.num_classes}\")\n",
    "        \n",
    "        print(f\"Training set size: {mask_size(dataset.data.train_mask)}\")\n",
    "        print(f\"Validation set size: {mask_size(dataset.data.val_mask)}\")\n",
    "        print(f\"Test set size: {mask_size(dataset.data.test_mask)}\")\n",
    "        print()\n",
    "        \n",
    "# print_datasets_info()"
   ]
  },
  {
   "cell_type": "code",
   "execution_count": 25,
   "id": "4ff70154-29d3-4982-94e8-5cf8aecb5c2c",
   "metadata": {},
   "outputs": [],
   "source": [
    "def load_data(dataset_name, data_only=False):\n",
    "    \"\"\"\n",
    "    Returns the dataset and [Data] object for the given dataset name.\n",
    "    \"\"\"\n",
    "    device = \"cuda\" if torch.cuda.is_available() else \"cpu\"\n",
    "    dataset = DATASETS[dataset_name]\n",
    "    data = dataset.data.to(device)\n",
    "    return data if data_only else (data, dataset)"
   ]
  },
  {
   "cell_type": "code",
   "execution_count": null,
   "id": "3391fd1d-f94c-4c3e-ac25-217fc9f740df",
   "metadata": {},
   "outputs": [],
   "source": []
  }
 ],
 "metadata": {
  "kernelspec": {
   "display_name": "Python 3 (ipykernel)",
   "language": "python",
   "name": "python3"
  },
  "language_info": {
   "codemirror_mode": {
    "name": "ipython",
    "version": 3
   },
   "file_extension": ".py",
   "mimetype": "text/x-python",
   "name": "python",
   "nbconvert_exporter": "python",
   "pygments_lexer": "ipython3",
   "version": "3.12.7"
  }
 },
 "nbformat": 4,
 "nbformat_minor": 5
}
