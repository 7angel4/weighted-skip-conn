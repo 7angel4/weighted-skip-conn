{
 "cells": [
  {
   "cell_type": "code",
   "execution_count": 7,
   "id": "490f7622-6081-4d74-87a3-38cf925cc991",
   "metadata": {},
   "outputs": [],
   "source": [
    "import torch\n",
    "import os\n",
    "import torch_geometric\n",
    "import torch_geometric.datasets as datasets"
   ]
  },
  {
   "cell_type": "markdown",
   "id": "9579cd62-a7fc-4338-8abd-ab184d8fc5af",
   "metadata": {},
   "source": [
    "`dataset.data.x` : input node features\n",
    "\n",
    "`dataset.data.edge_index` : A sparce adjacent matrix with the size of *2 x n_edge*.\n",
    "\n",
    "`dataset.data.y` : target labels\n",
    "\n",
    "`dataset.data.train_mask` : boolean mask indicating whether an index belongs to training data\n",
    "\n",
    "`dataset.data.val_mask` : boolean mask indicating whether an index belongs to validation data\n",
    "\n",
    "`dataset.data.test_mask` : boolean mask indicating whether an index belongs to test data"
   ]
  },
  {
   "cell_type": "code",
   "execution_count": 8,
   "id": "652daf55-193b-4f07-9ffc-024da2502705",
   "metadata": {},
   "outputs": [],
   "source": [
    "dataset_names = ['Cora', 'CiteSeer', 'PubMed']\n",
    "DATASETS = { name: datasets.Planetoid(\n",
    "                    root=\"./\",\n",
    "                    name=name,\n",
    "                    split=\"public\",\n",
    "                    transform=torch_geometric.transforms.GCNNorm()\n",
    "                    ) \n",
    "            for name in dataset_names\n",
    "            }"
   ]
  },
  {
   "cell_type": "code",
   "execution_count": 5,
   "id": "18c0f454-af3a-4289-9e43-d29b0e2ff0bf",
   "metadata": {},
   "outputs": [
    {
     "name": "stdout",
     "output_type": "stream",
     "text": [
      "Data(x=[2708, 1433], edge_index=[2, 10556], y=[2708], train_mask=[2708], val_mask=[2708], test_mask=[2708])\n"
     ]
    }
   ],
   "source": [
    "# Use Cora as example\n",
    "dataset = all_datasets['Cora']\n",
    "print(dataset.data)"
   ]
  },
  {
   "cell_type": "code",
   "execution_count": null,
   "id": "69a85741-3c9a-47ea-b7b0-5e54e58883b1",
   "metadata": {},
   "outputs": [],
   "source": [
    "def load_data(device, dataset_name):\n",
    "    \"\"\"\n",
    "    Returns the dataset for the given dataset name.\n",
    "    \"\"\"\n",
    "    dataset = DATASETS[dataset_name]\n",
    "    data = dataset.data\n",
    "    data = data.to(device)\n",
    "    return data"
   ]
  }
 ],
 "metadata": {
  "kernelspec": {
   "display_name": "Python 3 (ipykernel)",
   "language": "python",
   "name": "python3"
  },
  "language_info": {
   "codemirror_mode": {
    "name": "ipython",
    "version": 3
   },
   "file_extension": ".py",
   "mimetype": "text/x-python",
   "name": "python",
   "nbconvert_exporter": "python",
   "pygments_lexer": "ipython3",
   "version": "3.12.7"
  }
 },
 "nbformat": 4,
 "nbformat_minor": 5
}
