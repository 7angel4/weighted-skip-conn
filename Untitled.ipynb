{
 "cells": [
  {
   "cell_type": "code",
   "execution_count": null,
   "id": "490f7622-6081-4d74-87a3-38cf925cc991",
   "metadata": {},
   "outputs": [],
   "source": []
  }
 ],
 "metadata": {
  "kernelspec": {
   "display_name": "",
   "name": ""
  },
  "language_info": {
   "name": ""
  }
 },
 "nbformat": 4,
 "nbformat_minor": 5
}
